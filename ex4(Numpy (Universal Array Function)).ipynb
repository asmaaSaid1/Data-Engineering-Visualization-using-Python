{
 "cells": [
  {
   "cell_type": "code",
   "execution_count": 1,
   "id": "9a74bed5",
   "metadata": {},
   "outputs": [],
   "source": [
    "#Numpy (Universal Array Function)"
   ]
  },
  {
   "cell_type": "code",
   "execution_count": 2,
   "id": "36cb4635",
   "metadata": {},
   "outputs": [],
   "source": [
    "import numpy as np"
   ]
  },
  {
   "cell_type": "code",
   "execution_count": 7,
   "id": "2d63e1fc",
   "metadata": {},
   "outputs": [
    {
     "data": {
      "text/plain": [
       "array([[ 4, 38,  7],\n",
       "       [37, 56, 12],\n",
       "       [94, 64, 30]])"
      ]
     },
     "execution_count": 7,
     "metadata": {},
     "output_type": "execute_result"
    }
   ],
   "source": [
    "#1. Create a NumPy array with shape (3,3) and fill it with random numbers. Use the np.exp() function to compute the exponential of each element in the array.\n",
    "arr=np.random.randint(1,100,size=(3,3),dtype=int)\n",
    "arr"
   ]
  },
  {
   "cell_type": "code",
   "execution_count": 8,
   "id": "ede085e4",
   "metadata": {},
   "outputs": [
    {
     "data": {
      "text/plain": [
       "array([[5.45981500e+01, 3.18559318e+16, 1.09663316e+03],\n",
       "       [1.17191424e+16, 2.09165950e+24, 1.62754791e+05],\n",
       "       [6.66317622e+40, 6.23514908e+27, 1.06864746e+13]])"
      ]
     },
     "execution_count": 8,
     "metadata": {},
     "output_type": "execute_result"
    }
   ],
   "source": [
    "np.exp(arr)"
   ]
  },
  {
   "cell_type": "code",
   "execution_count": 9,
   "id": "c9b7eff7",
   "metadata": {},
   "outputs": [
    {
     "data": {
      "text/plain": [
       "array([[18, 96, 26, 59],\n",
       "       [77, 85, 92, 69],\n",
       "       [49, 88, 68, 54],\n",
       "       [87,  6, 29, 95]])"
      ]
     },
     "execution_count": 9,
     "metadata": {},
     "output_type": "execute_result"
    }
   ],
   "source": [
    "#2. Create a NumPy array with shape (4,4) and fill it with random numbers. Use the np.sin() function to compute the sine of each element in the array.\n",
    "arr1=np.random.randint(1,100,size=(4,4),dtype=int)\n",
    "arr1"
   ]
  },
  {
   "cell_type": "code",
   "execution_count": 10,
   "id": "4e45ffce",
   "metadata": {},
   "outputs": [
    {
     "data": {
      "text/plain": [
       "array([[-0.75098725,  0.98358775,  0.76255845,  0.63673801],\n",
       "       [ 0.99952016, -0.17607562, -0.77946607, -0.11478481],\n",
       "       [-0.95375265,  0.0353983 , -0.89792768, -0.55878905],\n",
       "       [-0.82181784, -0.2794155 , -0.66363388,  0.68326171]])"
      ]
     },
     "execution_count": 10,
     "metadata": {},
     "output_type": "execute_result"
    }
   ],
   "source": [
    "np.sin(arr1)"
   ]
  },
  {
   "cell_type": "code",
   "execution_count": 11,
   "id": "eefdb9ce",
   "metadata": {},
   "outputs": [
    {
     "data": {
      "text/plain": [
       "array([[3.55534806, 2.56494936, 4.52178858, 3.71357207, 3.97029191],\n",
       "       [4.04305127, 1.79175947, 4.48863637, 1.94591015, 4.58496748],\n",
       "       [3.87120101, 3.55534806, 4.02535169, 2.19722458, 3.55534806],\n",
       "       [4.18965474, 4.27666612, 2.77258872, 4.35670883, 3.66356165],\n",
       "       [4.47733681, 3.93182563, 2.89037176, 4.12713439, 4.47733681]])"
      ]
     },
     "execution_count": 11,
     "metadata": {},
     "output_type": "execute_result"
    }
   ],
   "source": [
    "#3. Create a NumPy array with shape (5,5) and fill it with random numbers. Use the np.log() function to compute the natural logarithm of each element in the array\n",
    "arr2=np.random.randint(1,100,size=(5,5),dtype=int)\n",
    "np.log(arr2)"
   ]
  },
  {
   "cell_type": "code",
   "execution_count": 12,
   "id": "0249e9cc",
   "metadata": {},
   "outputs": [
    {
     "data": {
      "text/plain": [
       "array([[6.8556546 , 7.54983444],\n",
       "       [8.30662386, 9.74679434]])"
      ]
     },
     "execution_count": 12,
     "metadata": {},
     "output_type": "execute_result"
    }
   ],
   "source": [
    "#4. Create a NumPy array with shape (2,2) and fill it with random numbers. Use the np.sqrt() function to compute the square root of each element in the array\n",
    "np.sqrt(np.random.randint(1,100,size=(2,2),dtype=int))"
   ]
  },
  {
   "cell_type": "code",
   "execution_count": 15,
   "id": "e14d4e11",
   "metadata": {},
   "outputs": [
    {
     "data": {
      "text/plain": [
       "array([[-1., -1.,  1.,  1., -2., -1.],\n",
       "       [ 0.,  0.,  1.,  0., -1., -2.],\n",
       "       [ 0., -1., -1.,  0.,  1.,  0.],\n",
       "       [ 0.,  2., -1.,  0., -2.,  0.],\n",
       "       [-2.,  1.,  0.,  0., -1.,  0.],\n",
       "       [-2., -2., -1., -1., -1.,  0.]])"
      ]
     },
     "execution_count": 15,
     "metadata": {},
     "output_type": "execute_result"
    }
   ],
   "source": [
    "#5. Create a NumPy array with shape (6,6) and fill it with random numbers. Use the np.floor() function to round down each element in the array to the nearest integer\n",
    "np.floor(np.random.randn(6,6))"
   ]
  },
  {
   "cell_type": "code",
   "execution_count": 50,
   "id": "5ef57590",
   "metadata": {},
   "outputs": [
    {
     "data": {
      "text/plain": [
       "array([[1.07635201, 0.69912263, 0.50991482],\n",
       "       [0.22718168, 1.14499494, 0.91503346],\n",
       "       [0.83827768, 0.28310762, 0.60722717]])"
      ]
     },
     "execution_count": 50,
     "metadata": {},
     "output_type": "execute_result"
    }
   ],
   "source": [
    "#6. Create a NumPy array with shape (3,3) and fill it with random numbers. Use the np.abs() function to compute the absolute value of each element in the array.\n",
    "arr=np.abs(np.random.randn(3,3))\n",
    "arr"
   ]
  },
  {
   "cell_type": "code",
   "execution_count": 51,
   "id": "3d161171",
   "metadata": {},
   "outputs": [
    {
     "data": {
      "text/plain": [
       "array([[1.07635201, 0.69912263, 0.50991482],\n",
       "       [0.22718168, 1.14499494, 0.91503346],\n",
       "       [0.83827768, 0.28310762, 0.60722717]])"
      ]
     },
     "execution_count": 51,
     "metadata": {},
     "output_type": "execute_result"
    }
   ],
   "source": [
    "np.abs(arr)"
   ]
  },
  {
   "cell_type": "code",
   "execution_count": 19,
   "id": "aa392a77",
   "metadata": {},
   "outputs": [
    {
     "data": {
      "text/plain": [
       "array([[6.43396543e-01, 5.92809120e+00, 1.55346087e-04, 2.69665189e-02],\n",
       "       [5.34143701e-01, 3.29432508e-02, 2.11370720e-03, 7.55094392e-01],\n",
       "       [1.67050293e-01, 1.04650081e-06, 1.57331120e-01, 1.55648240e-01],\n",
       "       [9.91391879e-01, 1.07674127e-01, 1.95436540e+00, 4.36945484e-01]])"
      ]
     },
     "execution_count": 19,
     "metadata": {},
     "output_type": "execute_result"
    }
   ],
   "source": [
    "#7. Create a NumPy array with shape (4,4) and fill it with random numbers. Use the np.power() function to raise each element in the array to the power of 2.\n",
    "np.power(np.random.randn(4,4),2)"
   ]
  },
  {
   "cell_type": "code",
   "execution_count": 23,
   "id": "164df046",
   "metadata": {},
   "outputs": [
    {
     "data": {
      "text/plain": [
       "array([5, 9, 1, 6, 6])"
      ]
     },
     "execution_count": 23,
     "metadata": {},
     "output_type": "execute_result"
    }
   ],
   "source": [
    "#8. Create a NumPy array with 5 random integers between 1 and 10. Use the maximum function to find the largest element in the array.\n",
    "arr=np.random.randint(1,11,size=5)\n",
    "arr"
   ]
  },
  {
   "cell_type": "code",
   "execution_count": 24,
   "id": "7f9ded6e",
   "metadata": {},
   "outputs": [
    {
     "data": {
      "text/plain": [
       "9"
      ]
     },
     "execution_count": 24,
     "metadata": {},
     "output_type": "execute_result"
    }
   ],
   "source": [
    "np.max(arr)"
   ]
  },
  {
   "cell_type": "code",
   "execution_count": 36,
   "id": "9a18cb36",
   "metadata": {},
   "outputs": [
    {
     "data": {
      "text/plain": [
       "array([0.20002495, 0.8012938 , 0.25873225, 0.99032351, 0.40702024,\n",
       "       0.79309077, 0.35613289, 0.34054295, 0.65098179, 0.35268985])"
      ]
     },
     "execution_count": 36,
     "metadata": {},
     "output_type": "execute_result"
    }
   ],
   "source": [
    "#9. Create a NumPy array with 10 random floating-point numbers between 0 and 1. Use the round function to round each element to the nearest integer.\n",
    "arr=np.random.rand(10)\n",
    "arr"
   ]
  },
  {
   "cell_type": "code",
   "execution_count": 37,
   "id": "4dbfaea8",
   "metadata": {},
   "outputs": [
    {
     "data": {
      "text/plain": [
       "array([0., 1., 0., 1., 0., 1., 0., 0., 1., 0.])"
      ]
     },
     "execution_count": 37,
     "metadata": {},
     "output_type": "execute_result"
    }
   ],
   "source": [
    "np.round(arr)"
   ]
  },
  {
   "cell_type": "code",
   "execution_count": 32,
   "id": "ed4f8f2c",
   "metadata": {},
   "outputs": [
    {
     "data": {
      "text/plain": [
       "array([65, 51, 38, 16, 98, 32, 30])"
      ]
     },
     "execution_count": 32,
     "metadata": {},
     "output_type": "execute_result"
    }
   ],
   "source": [
    "#10. Create a NumPy array with 7 random integers between 1 and 100. Use the argmax function to find the index of the largest element in the array.\n",
    "a=np.random.randint(1,100,size=7,dtype=int)\n",
    "a"
   ]
  },
  {
   "cell_type": "code",
   "execution_count": 33,
   "id": "97cea348",
   "metadata": {},
   "outputs": [
    {
     "data": {
      "text/plain": [
       "4"
      ]
     },
     "execution_count": 33,
     "metadata": {},
     "output_type": "execute_result"
    }
   ],
   "source": [
    "np.array(a).argmax()"
   ]
  },
  {
   "cell_type": "code",
   "execution_count": 41,
   "id": "32abe02e",
   "metadata": {},
   "outputs": [
    {
     "data": {
      "text/plain": [
       "array([1, 4, 3, 9, 9, 4, 4])"
      ]
     },
     "execution_count": 41,
     "metadata": {},
     "output_type": "execute_result"
    }
   ],
   "source": [
    "#11. Create two NumPy arrays with the same shape, each filled with random integers between 1 and Use the add function to add the two arrays together element-wise\n",
    "a=np.random.randint(1,10,size=7,dtype=int)\n",
    "b=np.random.randint(1,100,size=7,dtype=int)\n",
    "a\n"
   ]
  },
  {
   "cell_type": "code",
   "execution_count": 42,
   "id": "20def66d",
   "metadata": {},
   "outputs": [
    {
     "data": {
      "text/plain": [
       "array([47, 31, 84, 49, 82, 22, 44])"
      ]
     },
     "execution_count": 42,
     "metadata": {},
     "output_type": "execute_result"
    }
   ],
   "source": [
    "b"
   ]
  },
  {
   "cell_type": "code",
   "execution_count": 43,
   "id": "b49d1f52",
   "metadata": {},
   "outputs": [
    {
     "data": {
      "text/plain": [
       "array([48, 35, 87, 58, 91, 26, 48])"
      ]
     },
     "execution_count": 43,
     "metadata": {},
     "output_type": "execute_result"
    }
   ],
   "source": [
    "a+b"
   ]
  },
  {
   "cell_type": "code",
   "execution_count": 44,
   "id": "f34b03e0",
   "metadata": {},
   "outputs": [
    {
     "data": {
      "text/plain": [
       "array([48, 35, 87, 58, 91, 26, 48])"
      ]
     },
     "execution_count": 44,
     "metadata": {},
     "output_type": "execute_result"
    }
   ],
   "source": [
    "np.add(a,b)"
   ]
  },
  {
   "cell_type": "code",
   "execution_count": 48,
   "id": "2f82ad41",
   "metadata": {},
   "outputs": [
    {
     "data": {
      "text/plain": [
       "array([27, 30,  8, 26, 97, 17, 81, 99, 10, 88, 89, 20])"
      ]
     },
     "execution_count": 48,
     "metadata": {},
     "output_type": "execute_result"
    }
   ],
   "source": [
    "#12. Create a NumPy array with 12 random integers between 0 and 100. Use the clip function to limit the values in the array to a range between 10 and 90\n",
    "arr=np.random.randint(1,100,size=12,dtype=int)\n",
    "arr"
   ]
  },
  {
   "cell_type": "code",
   "execution_count": 49,
   "id": "53d76a27",
   "metadata": {},
   "outputs": [
    {
     "data": {
      "text/plain": [
       "array([27, 30, 10, 26, 90, 17, 81, 90, 10, 88, 89, 20])"
      ]
     },
     "execution_count": 49,
     "metadata": {},
     "output_type": "execute_result"
    }
   ],
   "source": [
    "np.clip(arr,10,90)"
   ]
  },
  {
   "cell_type": "code",
   "execution_count": null,
   "id": "897fa866",
   "metadata": {},
   "outputs": [],
   "source": []
  }
 ],
 "metadata": {
  "kernelspec": {
   "display_name": "Python 3 (ipykernel)",
   "language": "python",
   "name": "python3"
  },
  "language_info": {
   "codemirror_mode": {
    "name": "ipython",
    "version": 3
   },
   "file_extension": ".py",
   "mimetype": "text/x-python",
   "name": "python",
   "nbconvert_exporter": "python",
   "pygments_lexer": "ipython3",
   "version": "3.9.13"
  }
 },
 "nbformat": 4,
 "nbformat_minor": 5
}
