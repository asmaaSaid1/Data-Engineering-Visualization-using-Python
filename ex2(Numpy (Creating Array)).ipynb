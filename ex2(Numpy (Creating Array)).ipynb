{
 "cells": [
  {
   "cell_type": "code",
   "execution_count": 1,
   "id": "f1b43d53",
   "metadata": {},
   "outputs": [],
   "source": [
    "#scalar operations"
   ]
  },
  {
   "cell_type": "code",
   "execution_count": 2,
   "id": "6bc8185a",
   "metadata": {},
   "outputs": [],
   "source": [
    "import numpy as np"
   ]
  },
  {
   "cell_type": "code",
   "execution_count": 21,
   "id": "2a9f4b35",
   "metadata": {},
   "outputs": [
    {
     "data": {
      "text/plain": [
       "array([[2., 2.],\n",
       "       [2., 2.]])"
      ]
     },
     "execution_count": 21,
     "metadata": {},
     "output_type": "execute_result"
    }
   ],
   "source": [
    "#1. Create a 2x2 NumPy array and multiply it by 2.\n",
    "shape = (2, 2)\n",
    "arr1=np.ones(shape)\n",
    "arr1*2\n"
   ]
  },
  {
   "cell_type": "code",
   "execution_count": 20,
   "id": "98737bb9",
   "metadata": {},
   "outputs": [
    {
     "data": {
      "text/plain": [
       "array([[6., 6., 6.],\n",
       "       [6., 6., 6.],\n",
       "       [6., 6., 6.]])"
      ]
     },
     "execution_count": 20,
     "metadata": {},
     "output_type": "execute_result"
    }
   ],
   "source": [
    "#2. Create a 3x3 NumPy array and add 5 to each element.\n",
    "shape = (3, 3)\n",
    "arr2=np.ones(shape)\n",
    "arr2+5"
   ]
  },
  {
   "cell_type": "code",
   "execution_count": 18,
   "id": "b58080a2",
   "metadata": {},
   "outputs": [
    {
     "data": {
      "text/plain": [
       "array([[-9., -9., -9., -9.],\n",
       "       [-9., -9., -9., -9.],\n",
       "       [-9., -9., -9., -9.],\n",
       "       [-9., -9., -9., -9.]])"
      ]
     },
     "execution_count": 18,
     "metadata": {},
     "output_type": "execute_result"
    }
   ],
   "source": [
    "#3. Create a 4x4 NumPy array and subtract 10 from each element.\n",
    "shape = (4, 4)\n",
    "arr3=np.ones(shape)\n",
    "arr3-10"
   ]
  },
  {
   "cell_type": "code",
   "execution_count": 19,
   "id": "42d83df4",
   "metadata": {},
   "outputs": [
    {
     "data": {
      "text/plain": [
       "array([[0.5, 0.5, 0.5, 0.5, 0.5],\n",
       "       [0.5, 0.5, 0.5, 0.5, 0.5],\n",
       "       [0.5, 0.5, 0.5, 0.5, 0.5],\n",
       "       [0.5, 0.5, 0.5, 0.5, 0.5],\n",
       "       [0.5, 0.5, 0.5, 0.5, 0.5]])"
      ]
     },
     "execution_count": 19,
     "metadata": {},
     "output_type": "execute_result"
    }
   ],
   "source": [
    "#4. Create a 5x5 NumPy array and divide each element by 2.\n",
    "shape = (5, 5)\n",
    "arr4=np.ones(shape)\n",
    "arr/2"
   ]
  },
  {
   "cell_type": "code",
   "execution_count": 24,
   "id": "7bb1f421",
   "metadata": {
    "scrolled": true
   },
   "outputs": [
    {
     "data": {
      "text/plain": [
       "array([[1., 1., 1., 1., 1., 1.],\n",
       "       [1., 1., 1., 1., 1., 1.],\n",
       "       [1., 1., 1., 1., 1., 1.],\n",
       "       [1., 1., 1., 1., 1., 1.],\n",
       "       [1., 1., 1., 1., 1., 1.],\n",
       "       [1., 1., 1., 1., 1., 1.]])"
      ]
     },
     "execution_count": 24,
     "metadata": {},
     "output_type": "execute_result"
    }
   ],
   "source": [
    "#5. Create a 6x6 NumPy array and calculate the square root of each element\n",
    "shape = (6,6)\n",
    "arr5=np.ones(shape)\n",
    "np.sqrt(arr5)"
   ]
  },
  {
   "cell_type": "code",
   "execution_count": null,
   "id": "14e88f26",
   "metadata": {},
   "outputs": [],
   "source": [
    "#matrix product and multiplcation "
   ]
  },
  {
   "cell_type": "code",
   "execution_count": 28,
   "id": "72b21798",
   "metadata": {},
   "outputs": [
    {
     "data": {
      "text/plain": [
       "array([[6., 7.],\n",
       "       [6., 7.]])"
      ]
     },
     "execution_count": 28,
     "metadata": {},
     "output_type": "execute_result"
    }
   ],
   "source": [
    "#6. Create two 2x2 NumPy arrays and calculate their product using the np.matmul() function\n",
    "m1=np.array([[4,2],[2,5]])\n",
    "np.matmul(arr1,m1)"
   ]
  },
  {
   "cell_type": "code",
   "execution_count": 29,
   "id": "3d1138a7",
   "metadata": {},
   "outputs": [
    {
     "data": {
      "text/plain": [
       "array([[13.,  7., 18.],\n",
       "       [13.,  7., 18.],\n",
       "       [13.,  7., 18.]])"
      ]
     },
     "execution_count": 29,
     "metadata": {},
     "output_type": "execute_result"
    }
   ],
   "source": [
    "#7. Create two 3x3 NumPy arrays and calculate their product using the np.dot() function.\n",
    "m2=np.array([[4,2,7],[2,5,8],[7,0,3]])\n",
    "np.dot(arr2,m2)"
   ]
  },
  {
   "cell_type": "code",
   "execution_count": 30,
   "id": "99177e69",
   "metadata": {},
   "outputs": [
    {
     "data": {
      "text/plain": [
       "array([[69, 18],\n",
       "       [74, 29]])"
      ]
     },
     "execution_count": 30,
     "metadata": {},
     "output_type": "execute_result"
    }
   ],
   "source": [
    "#8. Create a 2x3 NumPy array and a 3x2 NumPy array, and calculate their product using the\n",
    "np.matmul() function\n",
    "m3=np.array([[4,2,7],[2,5,8]])\n",
    "m4=np.array([[4,2],[2,5],[7,0]])\n",
    "np.matmul(m3,m4)"
   ]
  },
  {
   "cell_type": "code",
   "execution_count": 31,
   "id": "929d1b9a",
   "metadata": {},
   "outputs": [
    {
     "data": {
      "text/plain": [
       "array([[69, 18],\n",
       "       [74, 29]])"
      ]
     },
     "execution_count": 31,
     "metadata": {},
     "output_type": "execute_result"
    }
   ],
   "source": [
    "#9. Create a 3x2 NumPy array and a 2x3 NumPy array, and calculate their product using the np.dot()function.\n",
    "np.dot(m3,m4)"
   ]
  },
  {
   "cell_type": "code",
   "execution_count": 33,
   "id": "aafd0dc1",
   "metadata": {},
   "outputs": [
    {
     "data": {
      "text/plain": [
       "array([[4, 2, 1, 5],\n",
       "       [2, 5, 7, 2],\n",
       "       [7, 0, 2, 1],\n",
       "       [1, 6, 3, 8]])"
      ]
     },
     "execution_count": 33,
     "metadata": {},
     "output_type": "execute_result"
    }
   ],
   "source": [
    "#10. Create a 4x4 NumPy array and its transpose using the np.transpose() function, then calculate their product using the np.matmul() function\n",
    "m5=np.array([[4,2,1,5],[2,5,7,2],[7,0,2,1],[1,6,3,8]])\n",
    "m5"
   ]
  },
  {
   "cell_type": "code",
   "execution_count": 34,
   "id": "06169be4",
   "metadata": {},
   "outputs": [
    {
     "data": {
      "text/plain": [
       "array([[4, 2, 7, 1],\n",
       "       [2, 5, 0, 6],\n",
       "       [1, 7, 2, 3],\n",
       "       [5, 2, 1, 8]])"
      ]
     },
     "execution_count": 34,
     "metadata": {},
     "output_type": "execute_result"
    }
   ],
   "source": [
    "np.transpose(m5)"
   ]
  },
  {
   "cell_type": "code",
   "execution_count": null,
   "id": "6287c52a",
   "metadata": {},
   "outputs": [],
   "source": []
  }
 ],
 "metadata": {
  "kernelspec": {
   "display_name": "Python 3 (ipykernel)",
   "language": "python",
   "name": "python3"
  },
  "language_info": {
   "codemirror_mode": {
    "name": "ipython",
    "version": 3
   },
   "file_extension": ".py",
   "mimetype": "text/x-python",
   "name": "python",
   "nbconvert_exporter": "python",
   "pygments_lexer": "ipython3",
   "version": "3.9.13"
  }
 },
 "nbformat": 4,
 "nbformat_minor": 5
}
