{
 "cells": [
  {
   "cell_type": "code",
   "execution_count": 1,
   "id": "afbbc179",
   "metadata": {},
   "outputs": [],
   "source": [
    "#Data engneering \n",
    "#numpy(creating arrays)"
   ]
  },
  {
   "cell_type": "code",
   "execution_count": 41,
   "id": "e469d140",
   "metadata": {},
   "outputs": [],
   "source": [
    "#import library\n",
    "import numpy as np\n"
   ]
  },
  {
   "cell_type": "code",
   "execution_count": 3,
   "id": "42341c51",
   "metadata": {},
   "outputs": [
    {
     "data": {
      "text/plain": [
       "array([0, 1, 2, 3, 4, 5, 6, 7, 8, 9])"
      ]
     },
     "execution_count": 3,
     "metadata": {},
     "output_type": "execute_result"
    }
   ],
   "source": [
    "#create a 1D numpy array with integer numbers from 0 to 9\n",
    "np.arange(10)"
   ]
  },
  {
   "cell_type": "code",
   "execution_count": 8,
   "id": "736ee89b",
   "metadata": {},
   "outputs": [
    {
     "data": {
      "text/plain": [
       "array([[0, 0, 0],\n",
       "       [0, 0, 0],\n",
       "       [0, 0, 0]])"
      ]
     },
     "execution_count": 8,
     "metadata": {},
     "output_type": "execute_result"
    }
   ],
   "source": [
    "#create 2D numpy array with shape (3,3) and fill it with zeros\n",
    "np.zeros([3,3],'int')"
   ]
  },
  {
   "cell_type": "code",
   "execution_count": 7,
   "id": "fd1b86c3",
   "metadata": {},
   "outputs": [
    {
     "data": {
      "text/plain": [
       "array([[[1, 1, 1, 1],\n",
       "        [1, 1, 1, 1],\n",
       "        [1, 1, 1, 1]],\n",
       "\n",
       "       [[1, 1, 1, 1],\n",
       "        [1, 1, 1, 1],\n",
       "        [1, 1, 1, 1]]])"
      ]
     },
     "execution_count": 7,
     "metadata": {},
     "output_type": "execute_result"
    }
   ],
   "source": [
    "#create 3D numpy array with shape (2,3,4) and fill it with ones\n",
    "np.ones([2,3,4],'int')"
   ]
  },
  {
   "cell_type": "code",
   "execution_count": 13,
   "id": "718a022a",
   "metadata": {},
   "outputs": [
    {
     "data": {
      "text/plain": [
       "array([ 16, 100,  23,  91,  84,  59,  23,  76,  28,  94])"
      ]
     },
     "execution_count": 13,
     "metadata": {},
     "output_type": "execute_result"
    }
   ],
   "source": [
    "##create a numpy array with 10 random integer numbers beween 0 to 100\n",
    "np.random.randint(0,101,10)"
   ]
  },
  {
   "cell_type": "code",
   "execution_count": 16,
   "id": "26c7d4fd",
   "metadata": {},
   "outputs": [
    {
     "data": {
      "text/plain": [
       "array([0.32485564, 0.50954755, 0.76749977, 0.75762696, 0.08269174,\n",
       "       0.60331096, 0.61032777, 0.40997726, 0.5808479 , 0.53926563])"
      ]
     },
     "execution_count": 16,
     "metadata": {},
     "output_type": "execute_result"
    }
   ],
   "source": [
    "#create a numpy array with 10 random float numbers beween 0 to 1\n",
    "np.random.uniform(size = 10, low = 0, high = 1) \n",
    "np.random.rand(10)"
   ]
  },
  {
   "cell_type": "code",
   "execution_count": 25,
   "id": "930f0c32",
   "metadata": {},
   "outputs": [
    {
     "data": {
      "text/plain": [
       "array([0.  , 0.25, 0.5 , 0.75, 1.  ])"
      ]
     },
     "execution_count": 25,
     "metadata": {},
     "output_type": "execute_result"
    }
   ],
   "source": [
    "#create a numpy array with 5 equally spaces between 0 ,1\n",
    "np.arange(0,1.1,.25)\n",
    "np.linspace(0,1,num=5)"
   ]
  },
  {
   "cell_type": "code",
   "execution_count": 34,
   "id": "1735b75c",
   "metadata": {},
   "outputs": [
    {
     "data": {
      "text/plain": [
       "array([ 0. ,  2.5,  5. ,  7.5, 10. ])"
      ]
     },
     "execution_count": 34,
     "metadata": {},
     "output_type": "execute_result"
    }
   ],
   "source": [
    "#create a numpy array with 5 equally spaces between 0 ,10\n",
    "np.arange(0,11,2.5)\n",
    "np.linspace(0,10,num=5)"
   ]
  },
  {
   "cell_type": "code",
   "execution_count": 36,
   "id": "ebe03610",
   "metadata": {},
   "outputs": [
    {
     "data": {
      "text/plain": [
       "array([-1. , -0.5,  0. ,  0.5,  1. ])"
      ]
     },
     "execution_count": 36,
     "metadata": {},
     "output_type": "execute_result"
    }
   ],
   "source": [
    "#create a numpy array with 5 equally spaces between -1,1\n",
    "np.arange(-1,1.1,.5)\n",
    "np.linspace(-1,1,num=5)"
   ]
  },
  {
   "cell_type": "code",
   "execution_count": 49,
   "id": "d698d836",
   "metadata": {},
   "outputs": [
    {
     "data": {
      "text/plain": [
       "array([ 0.00000000e+00,  6.42787610e-01,  9.84807753e-01,  8.66025404e-01,\n",
       "        3.42020143e-01, -3.42020143e-01, -8.66025404e-01, -9.84807753e-01,\n",
       "       -6.42787610e-01, -2.44929360e-16])"
      ]
     },
     "execution_count": 49,
     "metadata": {},
     "output_type": "execute_result"
    }
   ],
   "source": [
    "#create a numpy array with sine values of angle between 0 ,2PI\n",
    "angle= np.linspace(0, 2*(np.pi), 10)\n",
    "np.sin(angle)"
   ]
  },
  {
   "cell_type": "code",
   "execution_count": 50,
   "id": "2c64af53",
   "metadata": {},
   "outputs": [
    {
     "data": {
      "text/plain": [
       "array([ 1.        ,  0.93969262,  0.76604444,  0.5       ,  0.17364818,\n",
       "       -0.17364818, -0.5       , -0.76604444, -0.93969262, -1.        ])"
      ]
     },
     "execution_count": 50,
     "metadata": {},
     "output_type": "execute_result"
    }
   ],
   "source": [
    "#create a numpy array with cosine values of angle between 0 ,PI\n",
    "angle= np.linspace(0, np.pi, 10)\n",
    "np.cos(angle)"
   ]
  },
  {
   "cell_type": "code",
   "execution_count": null,
   "id": "26c9cfb9",
   "metadata": {},
   "outputs": [],
   "source": []
  },
  {
   "cell_type": "code",
   "execution_count": null,
   "id": "35f49208",
   "metadata": {},
   "outputs": [],
   "source": []
  }
 ],
 "metadata": {
  "kernelspec": {
   "display_name": "Python 3 (ipykernel)",
   "language": "python",
   "name": "python3"
  },
  "language_info": {
   "codemirror_mode": {
    "name": "ipython",
    "version": 3
   },
   "file_extension": ".py",
   "mimetype": "text/x-python",
   "name": "python",
   "nbconvert_exporter": "python",
   "pygments_lexer": "ipython3",
   "version": "3.9.13"
  }
 },
 "nbformat": 4,
 "nbformat_minor": 5
}
