{
 "cells": [
  {
   "cell_type": "code",
   "execution_count": null,
   "id": "33e3e951",
   "metadata": {},
   "outputs": [],
   "source": [
    "#Numpy (Series)"
   ]
  },
  {
   "cell_type": "code",
   "execution_count": 12,
   "id": "4e9b0516",
   "metadata": {},
   "outputs": [],
   "source": [
    "import numpy as np\n",
    "import pandas as pd"
   ]
  },
  {
   "cell_type": "code",
   "execution_count": 13,
   "id": "6b0a280e",
   "metadata": {},
   "outputs": [
    {
     "data": {
      "text/plain": [
       "0    10\n",
       "1    20\n",
       "2    30\n",
       "3    40\n",
       "4    50\n",
       "dtype: int64"
      ]
     },
     "execution_count": 13,
     "metadata": {},
     "output_type": "execute_result"
    }
   ],
   "source": [
    "#1. Create a Series using the following data: data = [10, 20, 30, 40, 50]\n",
    "obj =pd.Series([10, 20, 30, 40, 50])\n",
    "obj"
   ]
  },
  {
   "cell_type": "code",
   "execution_count": 14,
   "id": "cafb567e",
   "metadata": {},
   "outputs": [
    {
     "data": {
      "text/plain": [
       "a    10\n",
       "b    20\n",
       "c    30\n",
       "d    40\n",
       "e    50\n",
       "dtype: int64"
      ]
     },
     "execution_count": 14,
     "metadata": {},
     "output_type": "execute_result"
    }
   ],
   "source": [
    "#2. Assign the following index labels to the Series: index = ['a', 'b', 'c', 'd', 'e']\n",
    "a=pd.Series([10, 20, 30, 40, 50],index = ['a', 'b', 'c', 'd', 'e'])\n",
    "a"
   ]
  },
  {
   "cell_type": "code",
   "execution_count": 15,
   "id": "2633a476",
   "metadata": {},
   "outputs": [
    {
     "data": {
      "text/plain": [
       "20"
      ]
     },
     "execution_count": 15,
     "metadata": {},
     "output_type": "execute_result"
    }
   ],
   "source": [
    "#3. Use index values to select the values of the Series for the labels 'b' and 'e'.\n",
    "a['b']"
   ]
  },
  {
   "cell_type": "code",
   "execution_count": 16,
   "id": "500fb894",
   "metadata": {},
   "outputs": [
    {
     "data": {
      "text/plain": [
       "50"
      ]
     },
     "execution_count": 16,
     "metadata": {},
     "output_type": "execute_result"
    }
   ],
   "source": [
    "a['e']"
   ]
  },
  {
   "cell_type": "code",
   "execution_count": 26,
   "id": "2526c3f9",
   "metadata": {},
   "outputs": [
    {
     "data": {
      "text/plain": [
       "b    20\n",
       "dtype: int64"
      ]
     },
     "execution_count": 26,
     "metadata": {},
     "output_type": "execute_result"
    }
   ],
   "source": [
    "#4. Check if the Series contains the value 20 using a boolean array.\n",
    "a[a==20]\n"
   ]
  },
  {
   "cell_type": "code",
   "execution_count": 18,
   "id": "784d8334",
   "metadata": {},
   "outputs": [
    {
     "data": {
      "text/plain": [
       "a    False\n",
       "b     True\n",
       "c    False\n",
       "d    False\n",
       "e    False\n",
       "dtype: bool"
      ]
     },
     "execution_count": 18,
     "metadata": {},
     "output_type": "execute_result"
    }
   ],
   "source": [
    "a==20\n"
   ]
  },
  {
   "cell_type": "code",
   "execution_count": 27,
   "id": "eb059ba1",
   "metadata": {},
   "outputs": [
    {
     "data": {
      "text/plain": [
       "a    False\n",
       "b     True\n",
       "c    False\n",
       "d    False\n",
       "e    False\n",
       "dtype: bool"
      ]
     },
     "execution_count": 27,
     "metadata": {},
     "output_type": "execute_result"
    }
   ],
   "source": [
    "#5. Check if the Series contains the values 15 and 20 using a boolean array.\n",
    "a.isin([15,20])"
   ]
  },
  {
   "cell_type": "code",
   "execution_count": 20,
   "id": "d6008194",
   "metadata": {},
   "outputs": [
    {
     "data": {
      "text/plain": [
       "a    15\n",
       "b    25\n",
       "c    35\n",
       "d    45\n",
       "e    55\n",
       "dtype: int64"
      ]
     },
     "execution_count": 20,
     "metadata": {},
     "output_type": "execute_result"
    }
   ],
   "source": [
    "#6. Add the value 5 to each element of the Series using array operations.\n",
    "a+5"
   ]
  },
  {
   "cell_type": "code",
   "execution_count": 21,
   "id": "64e58260",
   "metadata": {},
   "outputs": [
    {
     "data": {
      "text/plain": [
       "{'a': 10, 'b': 20, 'c': 30, 'd': 40, 'e': 50}"
      ]
     },
     "execution_count": 21,
     "metadata": {},
     "output_type": "execute_result"
    }
   ],
   "source": [
    "#7. Convert the Series into a Python dictionary and check its values.\n",
    "a_dict = a.to_dict()\n",
    "a_dict "
   ]
  },
  {
   "cell_type": "code",
   "execution_count": 58,
   "id": "fd5808e4",
   "metadata": {},
   "outputs": [
    {
     "data": {
      "text/plain": [
       "a    10\n",
       "b    20\n",
       "c    30\n",
       "d    40\n",
       "e    50\n",
       "f    60\n",
       "dtype: int64"
      ]
     },
     "execution_count": 58,
     "metadata": {},
     "output_type": "execute_result"
    }
   ],
   "source": [
    "#8. Pass a dictionary to the Series constructor and assign the following keys and values:\n",
    "#{'a': 10, 'b': 20, 'c': 30, 'd': 40, 'e': 50, 'f': 60}\n",
    "dic={'a': 10, 'b': 20, 'c': 30, 'd': 40, 'e': 50, 'f': 60}\n",
    "pd.Series(dic)"
   ]
  },
  {
   "cell_type": "code",
   "execution_count": 28,
   "id": "4120c77f",
   "metadata": {},
   "outputs": [
    {
     "data": {
      "text/plain": [
       "a    False\n",
       "b    False\n",
       "c    False\n",
       "d    False\n",
       "e    False\n",
       "dtype: bool"
      ]
     },
     "execution_count": 28,
     "metadata": {},
     "output_type": "execute_result"
    }
   ],
   "source": [
    "#9. Check if any values in the Series are null or not null using isnull() and notnull() methods.\n",
    "a.isnull()"
   ]
  },
  {
   "cell_type": "code",
   "execution_count": 29,
   "id": "1ee717c9",
   "metadata": {},
   "outputs": [
    {
     "data": {
      "text/plain": [
       "a    True\n",
       "b    True\n",
       "c    True\n",
       "d    True\n",
       "e    True\n",
       "dtype: bool"
      ]
     },
     "execution_count": 29,
     "metadata": {},
     "output_type": "execute_result"
    }
   ],
   "source": [
    "a.notnull()"
   ]
  },
  {
   "cell_type": "code",
   "execution_count": 34,
   "id": "b2563f8d",
   "metadata": {},
   "outputs": [
    {
     "data": {
      "text/plain": [
       "0    20\n",
       "1    30\n",
       "2    40\n",
       "3    50\n",
       "4    60\n",
       "dtype: int64"
      ]
     },
     "execution_count": 34,
     "metadata": {},
     "output_type": "execute_result"
    }
   ],
   "source": [
    "#10. Create another Series using the following data: data2 = [20, 30, 40, 50, 60]\n",
    "s =pd.Series([20, 30, 40, 50, 60])\n",
    "s"
   ]
  },
  {
   "cell_type": "code",
   "execution_count": 43,
   "id": "94e44c69",
   "metadata": {},
   "outputs": [
    {
     "data": {
      "text/plain": [
       "a    20\n",
       "b    30\n",
       "c    40\n",
       "d    50\n",
       "e    60\n",
       "f    30\n",
       "z    30\n",
       "dtype: int64"
      ]
     },
     "execution_count": 43,
     "metadata": {},
     "output_type": "execute_result"
    }
   ],
   "source": [
    "#11. Assign the following index labels to the second Series: index2 = ['b', 'c', 'd', 'e', 'f']\n",
    "s=pd.Series([20, 30, 40, 50, 60,30,30],index = ['a', 'b', 'c', 'd', 'e','f','z'])\n",
    "s"
   ]
  },
  {
   "cell_type": "code",
   "execution_count": 55,
   "id": "e4adf7f1",
   "metadata": {},
   "outputs": [
    {
     "data": {
      "text/plain": [
       "a     30.0\n",
       "b     50.0\n",
       "c     70.0\n",
       "d     90.0\n",
       "e    110.0\n",
       "f      NaN\n",
       "z      NaN\n",
       "dtype: float64"
      ]
     },
     "execution_count": 55,
     "metadata": {},
     "output_type": "execute_result"
    }
   ],
   "source": [
    "#12. Add the two Series together and observe how pandas automatically aligns the data based on their index labels.\n",
    "a+s"
   ]
  },
  {
   "cell_type": "code",
   "execution_count": 56,
   "id": "bd7f92fb",
   "metadata": {},
   "outputs": [
    {
     "data": {
      "text/plain": [
       "array([20, 30, 40, 50, 60], dtype=int64)"
      ]
     },
     "execution_count": 56,
     "metadata": {},
     "output_type": "execute_result"
    }
   ],
   "source": [
    "#13. Use the unique() method to find the unique values in the Series.\n",
    "s.unique() "
   ]
  },
  {
   "cell_type": "code",
   "execution_count": 52,
   "id": "6d37b87b",
   "metadata": {},
   "outputs": [
    {
     "data": {
      "text/plain": [
       "a    1.0\n",
       "b    3.0\n",
       "c    5.0\n",
       "d    6.0\n",
       "e    7.0\n",
       "f    3.0\n",
       "z    3.0\n",
       "dtype: float64"
      ]
     },
     "execution_count": 52,
     "metadata": {},
     "output_type": "execute_result"
    }
   ],
   "source": [
    "#14. Use the sort_values() method to sort the Series in ascending order by value.\n",
    "r=s.rank()\n",
    "r"
   ]
  },
  {
   "cell_type": "code",
   "execution_count": 53,
   "id": "820eb385",
   "metadata": {},
   "outputs": [
    {
     "data": {
      "text/plain": [
       "a    1.0\n",
       "b    3.0\n",
       "f    3.0\n",
       "z    3.0\n",
       "c    5.0\n",
       "d    6.0\n",
       "e    7.0\n",
       "dtype: float64"
      ]
     },
     "execution_count": 53,
     "metadata": {},
     "output_type": "execute_result"
    }
   ],
   "source": [
    "r.sort_values()"
   ]
  },
  {
   "cell_type": "code",
   "execution_count": 54,
   "id": "91481d89",
   "metadata": {},
   "outputs": [
    {
     "data": {
      "text/plain": [
       "a    20\n",
       "b    30\n",
       "f    30\n",
       "z    30\n",
       "c    40\n",
       "d    50\n",
       "e    60\n",
       "dtype: int64"
      ]
     },
     "execution_count": 54,
     "metadata": {},
     "output_type": "execute_result"
    }
   ],
   "source": [
    "s.sort_values()"
   ]
  },
  {
   "cell_type": "code",
   "execution_count": 57,
   "id": "7a94c0d4",
   "metadata": {},
   "outputs": [
    {
     "data": {
      "text/plain": [
       "',0\\r\\na,20\\r\\nb,30\\r\\nc,40\\r\\nd,50\\r\\ne,60\\r\\nf,30\\r\\nz,30\\r\\n'"
      ]
     },
     "execution_count": 57,
     "metadata": {},
     "output_type": "execute_result"
    }
   ],
   "source": [
    "#15. Save the Series to a text file using the to_csv() method.\n",
    "s.to_csv()"
   ]
  },
  {
   "cell_type": "code",
   "execution_count": null,
   "id": "35e45728",
   "metadata": {},
   "outputs": [],
   "source": []
  }
 ],
 "metadata": {
  "kernelspec": {
   "display_name": "Python 3 (ipykernel)",
   "language": "python",
   "name": "python3"
  },
  "language_info": {
   "codemirror_mode": {
    "name": "ipython",
    "version": 3
   },
   "file_extension": ".py",
   "mimetype": "text/x-python",
   "name": "python",
   "nbconvert_exporter": "python",
   "pygments_lexer": "ipython3",
   "version": "3.9.13"
  }
 },
 "nbformat": 4,
 "nbformat_minor": 5
}
