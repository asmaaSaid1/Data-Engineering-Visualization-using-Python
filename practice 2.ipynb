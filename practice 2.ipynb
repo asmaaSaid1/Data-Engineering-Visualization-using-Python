{
 "cells": [
  {
   "cell_type": "code",
   "execution_count": 1,
   "id": "93783910",
   "metadata": {},
   "outputs": [],
   "source": [
    "import numpy as np"
   ]
  },
  {
   "cell_type": "code",
   "execution_count": 2,
   "id": "f51aca4d",
   "metadata": {},
   "outputs": [],
   "source": [
    "arr = np.random.randn(5,5)"
   ]
  },
  {
   "cell_type": "code",
   "execution_count": 3,
   "id": "8fda68f1",
   "metadata": {},
   "outputs": [
    {
     "data": {
      "text/plain": [
       "array([[-1.49349742,  0.73321569, -1.13774705,  1.66048726,  0.44390176],\n",
       "       [ 0.46231098,  0.94782056,  0.45283894, -0.7139719 , -1.19601805],\n",
       "       [-0.22633185, -1.65595865,  0.48175788,  1.28940205, -0.08450067],\n",
       "       [-1.64862769,  0.28129272, -0.06995946,  0.43752624, -1.18684388],\n",
       "       [-0.4295647 ,  0.91746795, -2.66030339, -0.60449493,  1.90697335]])"
      ]
     },
     "execution_count": 3,
     "metadata": {},
     "output_type": "execute_result"
    }
   ],
   "source": [
    "arr"
   ]
  },
  {
   "cell_type": "code",
   "execution_count": 4,
   "id": "8ef4f78f",
   "metadata": {},
   "outputs": [
    {
     "data": {
      "text/plain": [
       "array([[-0.24024613,  3.09982354,  0.29337943,  4.49073089,  2.66585264],\n",
       "       [ 2.69346647,  3.42173084,  2.67925842,  0.92904214,  0.20597293],\n",
       "       [ 1.66050223, -0.48393797,  2.72263682,  3.93410308,  1.873249  ],\n",
       "       [-0.47294153,  2.42193909,  1.89506081,  2.65628937,  0.21973418],\n",
       "       [ 1.35565295,  3.37620193, -1.99045508,  1.09325761,  4.86046003]])"
      ]
     },
     "execution_count": 4,
     "metadata": {},
     "output_type": "execute_result"
    }
   ],
   "source": [
    "2+1.5*(arr)"
   ]
  },
  {
   "cell_type": "code",
   "execution_count": 5,
   "id": "628a4ce7",
   "metadata": {},
   "outputs": [],
   "source": [
    "A=np.array([-2,5,4,-8,0])\n",
    "a=np.sort(A) #Ascending"
   ]
  },
  {
   "cell_type": "code",
   "execution_count": 6,
   "id": "390a1fee",
   "metadata": {},
   "outputs": [
    {
     "data": {
      "text/plain": [
       "array([-8, -2,  0,  4,  5])"
      ]
     },
     "execution_count": 6,
     "metadata": {},
     "output_type": "execute_result"
    }
   ],
   "source": [
    "a"
   ]
  },
  {
   "cell_type": "code",
   "execution_count": 7,
   "id": "cfe40b8f",
   "metadata": {},
   "outputs": [
    {
     "data": {
      "text/plain": [
       "array([ 5,  4,  0, -2, -8])"
      ]
     },
     "execution_count": 7,
     "metadata": {},
     "output_type": "execute_result"
    }
   ],
   "source": [
    "np.flip(a) #Descending"
   ]
  },
  {
   "cell_type": "code",
   "execution_count": null,
   "id": "9965a2c9",
   "metadata": {},
   "outputs": [],
   "source": []
  }
 ],
 "metadata": {
  "kernelspec": {
   "display_name": "Python 3 (ipykernel)",
   "language": "python",
   "name": "python3"
  },
  "language_info": {
   "codemirror_mode": {
    "name": "ipython",
    "version": 3
   },
   "file_extension": ".py",
   "mimetype": "text/x-python",
   "name": "python",
   "nbconvert_exporter": "python",
   "pygments_lexer": "ipython3",
   "version": "3.9.13"
  }
 },
 "nbformat": 4,
 "nbformat_minor": 5
}
